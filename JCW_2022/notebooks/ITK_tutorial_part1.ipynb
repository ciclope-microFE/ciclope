{
 "cells": [
  {
   "cell_type": "code",
   "execution_count": null,
   "id": "d995d2ec",
   "metadata": {},
   "outputs": [],
   "source": [
    "import itk"
   ]
  },
  {
   "cell_type": "code",
   "execution_count": null,
   "id": "cbee4329",
   "metadata": {},
   "outputs": [],
   "source": [
    "from itkwidgets import view"
   ]
  },
  {
   "cell_type": "code",
   "execution_count": null,
   "id": "b87d5b1c",
   "metadata": {},
   "outputs": [],
   "source": [
    "import sys\n",
    "sys.path.append('./../../')"
   ]
  },
  {
   "cell_type": "code",
   "execution_count": null,
   "id": "2b585292",
   "metadata": {},
   "outputs": [],
   "source": [
    "import numpy as np\n",
    "import matplotlib\n",
    "import matplotlib.pyplot as plt\n",
    "\n",
    "from recon_utils import read_tiff_stack, plot_midplanes\n",
    "\n",
    "matplotlib.rcParams['figure.dpi'] = 300"
   ]
  },
  {
   "cell_type": "markdown",
   "id": "7786041f",
   "metadata": {},
   "source": [
    "#### Load input data"
   ]
  },
  {
   "cell_type": "code",
   "execution_count": null,
   "id": "4067cb68",
   "metadata": {},
   "outputs": [],
   "source": [
    "input_file = '/home/gianthk/Data/2019.001.coop_TUberlin_simulierte_Mensch.iorig/trabecular_samples/2000L_crop_imgaussfilt_60micron_uint8_.mha'"
   ]
  },
  {
   "cell_type": "code",
   "execution_count": null,
   "id": "18eecb82",
   "metadata": {},
   "outputs": [],
   "source": [
    "vs = np.ones(3)*60.6e-3*4 # [mm]"
   ]
  },
  {
   "cell_type": "code",
   "execution_count": null,
   "id": "6f789da6",
   "metadata": {},
   "outputs": [],
   "source": [
    "# file_name = 'data/brainweb165a10f17.mha'\n",
    "# image = itk.imread(input_file, itk.ctype('int'))\n",
    "image = itk.imread(input_file)\n",
    "view(image, slicing_planes=True, gradient_opacity=0.8, ui_collapsed=True)"
   ]
  },
  {
   "cell_type": "markdown",
   "id": "ded5dd8f",
   "metadata": {},
   "source": [
    "only a limited number of types are available in ITK Python.\n",
    "To print the supported types, run the following command in your python environment:"
   ]
  },
  {
   "cell_type": "code",
   "execution_count": null,
   "id": "27dda9f2",
   "metadata": {
    "scrolled": true
   },
   "outputs": [],
   "source": [
    "itk.CurvatureFlowImageFilter.GetTypes()"
   ]
  },
  {
   "cell_type": "markdown",
   "id": "3f7c4d6f",
   "metadata": {},
   "source": [
    "Smooth filters"
   ]
  },
  {
   "cell_type": "code",
   "execution_count": null,
   "id": "0b55df69",
   "metadata": {},
   "outputs": [],
   "source": [
    "help(itk.curvature_flow_image_filter)"
   ]
  },
  {
   "cell_type": "markdown",
   "id": "ae1dfa93",
   "metadata": {},
   "source": [
    "### Smooth the image with CurvatureFlowImageFilter\n",
    "The image must be float so we cast it first from uint8 to float!"
   ]
  },
  {
   "cell_type": "markdown",
   "id": "d2734b05",
   "metadata": {},
   "source": [
    "#### Cast to a different image type:"
   ]
  },
  {
   "cell_type": "code",
   "execution_count": null,
   "id": "959c6c93",
   "metadata": {},
   "outputs": [],
   "source": [
    "# What ctype is my image\n",
    "print(image)"
   ]
  },
  {
   "cell_type": "markdown",
   "id": "ec86806f",
   "metadata": {},
   "source": [
    "**UC3 = Unsigned Char 3 Dimensions**"
   ]
  },
  {
   "cell_type": "code",
   "execution_count": null,
   "id": "32590aa2",
   "metadata": {},
   "outputs": [],
   "source": [
    "InputImageType = itk.Image[itk.UC, 3]\n",
    "OutputImageType = itk.Image[itk.F, 3]\n",
    "cast_filter = itk.CastImageFilter[InputImageType, OutputImageType].New(image)\n",
    "cast_filter.Update()"
   ]
  },
  {
   "cell_type": "markdown",
   "id": "2ea3791b",
   "metadata": {},
   "source": [
    "Get filter output"
   ]
  },
  {
   "cell_type": "code",
   "execution_count": null,
   "id": "2141bf53",
   "metadata": {},
   "outputs": [],
   "source": [
    "itk.CurvatureFlowImageFilter(cast_filter.GetOutput())"
   ]
  },
  {
   "cell_type": "code",
   "execution_count": null,
   "id": "4b179778",
   "metadata": {},
   "outputs": [],
   "source": [
    "print(cast_filter.GetOutput())"
   ]
  },
  {
   "cell_type": "markdown",
   "id": "a89c30e3",
   "metadata": {},
   "source": [
    "#### Apply the filter"
   ]
  },
  {
   "cell_type": "code",
   "execution_count": 42,
   "id": "4dd25932",
   "metadata": {},
   "outputs": [
    {
     "data": {
      "application/vnd.jupyter.widget-view+json": {
       "model_id": "b72f63deea2a4e9dbe5b56b6a2f835a8",
       "version_major": 2,
       "version_minor": 0
      },
      "text/plain": [
       "Viewer(geometries=[], gradient_opacity=0.8, point_sets=[], rendered_image=<itk.itkImagePython.itkImageF3; prox…"
      ]
     },
     "metadata": {},
     "output_type": "display_data"
    }
   ],
   "source": [
    "# Smooth the image (must be float?)\n",
    "# smoothed = itk.CurvatureFlowImageFilter(image, number_of_iterations=6, TimeStep=0.005)\n",
    "smoothed = itk.CurvatureFlowImageFilter(cast_filter.GetOutput(), number_of_iterations=6, TimeStep=0.005)\n",
    "view(smoothed, slicing_planes=True, gradient_opacity=0.8, ui_collapsed=True)"
   ]
  },
  {
   "cell_type": "markdown",
   "id": "613de715",
   "metadata": {},
   "source": [
    "### Try different filters"
   ]
  },
  {
   "cell_type": "code",
   "execution_count": null,
   "id": "c012b750",
   "metadata": {},
   "outputs": [],
   "source": [
    "# filtered_image = itk.median_image_filter(image, radius = 3)\n",
    "# filtered_image = itk.otsu_threshold_image_filter(image)\n",
    "filtered_image = itk.mean_image_filter(image)"
   ]
  },
  {
   "cell_type": "code",
   "execution_count": null,
   "id": "fded0594",
   "metadata": {},
   "outputs": [],
   "source": [
    "view(filtered_image)"
   ]
  },
  {
   "cell_type": "markdown",
   "id": "5790ee86",
   "metadata": {},
   "source": [
    "Print image metadata"
   ]
  },
  {
   "cell_type": "code",
   "execution_count": null,
   "id": "43c67c7b",
   "metadata": {},
   "outputs": [],
   "source": [
    "print(filtered_image)"
   ]
  },
  {
   "cell_type": "code",
   "execution_count": null,
   "id": "aabbf69e",
   "metadata": {},
   "outputs": [],
   "source": []
  }
 ],
 "metadata": {
  "kernelspec": {
   "display_name": "conda (CT2FE)",
   "language": "python",
   "name": "ct2fe"
  },
  "language_info": {
   "codemirror_mode": {
    "name": "ipython",
    "version": 3
   },
   "file_extension": ".py",
   "mimetype": "text/x-python",
   "name": "python",
   "nbconvert_exporter": "python",
   "pygments_lexer": "ipython3",
   "version": "3.8.3"
  }
 },
 "nbformat": 4,
 "nbformat_minor": 5
}
