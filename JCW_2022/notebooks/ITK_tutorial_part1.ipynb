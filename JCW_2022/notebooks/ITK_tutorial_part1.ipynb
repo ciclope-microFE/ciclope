{
 "cells": [
  {
   "cell_type": "code",
   "execution_count": 1,
   "id": "93e9bb37",
   "metadata": {},
   "outputs": [],
   "source": [
    "import itk"
   ]
  },
  {
   "cell_type": "code",
   "execution_count": 2,
   "id": "d7289842",
   "metadata": {},
   "outputs": [],
   "source": [
    "from itkwidgets import view"
   ]
  }
 ],
 "metadata": {
  "kernelspec": {
   "display_name": "conda (CT2FE)",
   "language": "python",
   "name": "ct2fe"
  },
  "language_info": {
   "codemirror_mode": {
    "name": "ipython",
    "version": 3
   },
   "file_extension": ".py",
   "mimetype": "text/x-python",
   "name": "python",
   "nbconvert_exporter": "python",
   "pygments_lexer": "ipython3",
   "version": "3.8.3"
  }
 },
 "nbformat": 4,
 "nbformat_minor": 5
}
