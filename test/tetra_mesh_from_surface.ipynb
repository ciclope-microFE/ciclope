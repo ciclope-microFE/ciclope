{
 "cells": [
  {
   "cell_type": "code",
   "execution_count": null,
   "metadata": {},
   "outputs": [
    {
     "ename": "",
     "evalue": "",
     "output_type": "error",
     "traceback": [
      "\u001b[1;31mRunning cells with 'ciclope (Python 3.11.11)' requires the ipykernel package.\n",
      "\u001b[1;31mRun the following command to install 'ipykernel' into the Python environment. \n",
      "\u001b[1;31mCommand: 'conda install -p /Users/gianthk/micromamba/envs/ciclope ipykernel --update-deps --force-reinstall'"
     ]
    }
   ],
   "source": [
    "import SimpleITK as sitk\n",
    "import ciclope\n",
    "import meshio\n",
    "import ciclope.utils\n",
    "from ciclope.utils.preprocess import remove_unconnected\n",
    "import scipy\n",
    "import numpy as np\n",
    "import mcubes\n",
    "import pygalmesh\n",
    "from ciclope.utils.recon_utils import read_tiff_stack\n",
    "from skimage.filters import threshold_otsu, gaussian\n",
    "from scipy import ndimage, misc\n",
    "\n",
    "import ciclope.utils.preprocess"
   ]
  },
  {
   "cell_type": "code",
   "execution_count": null,
   "metadata": {},
   "outputs": [],
   "source": [
    "input_file = '/Users/gianthk/Code/ORMIR/ciclope/test_data/LHDL/3155_D_4_bc/cropped/3155_D_4_bc_0000.tif'\n",
    "# input_file = '/Users/gianthk/Desktop/scaffold.mha'\n",
    "# input_file = \"/Volumes/stamplab_terminus/processed/2025/compaCT/20250117_124458052387_crop_scaffold_masks/scaffold.mha\"\n",
    "samplename = 'trab' # 'scaffold'\n",
    "\n",
    "# read binary image\n",
    "# data_3D = sitk.GetArrayFromImage(sitk.ReadImage(input_file))\n",
    "# bw = data_3D\n",
    "\n",
    "# read test image\n",
    "data_3D = read_tiff_stack(input_file)\n",
    "vs = np.ones(3)*19.5e-3 # [mm]\n"
   ]
  },
  {
   "cell_type": "code",
   "execution_count": null,
   "metadata": {},
   "outputs": [],
   "source": [
    "# gaussian filter\n",
    "data_3D = gaussian(data_3D, sigma=1, preserve_range=True)"
   ]
  },
  {
   "cell_type": "code",
   "execution_count": null,
   "metadata": {},
   "outputs": [],
   "source": [
    "# downsample\n",
    "resampling = 1\n",
    "\n",
    "# resize the 3D data using spline interpolation of order 2\n",
    "# data_3D = ndimage.zoom(data_3D, 1/resampling, output=None, order=2)\n",
    "\n",
    "# correct voxelsize\n",
    "vs = vs * resampling"
   ]
  },
  {
   "cell_type": "code",
   "execution_count": null,
   "metadata": {},
   "outputs": [],
   "source": [
    "# thresholding\n",
    "T = threshold_otsu(data_3D)\n",
    "bw = data_3D > T\n",
    "\n",
    "# remove unconnected components\n",
    "bw = remove_unconnected(bw)\n",
    "\n",
    "# simplify\n",
    "# bw = scipy.ndimage.binary_closing(bw,iterations=1, border_value=1)\n",
    "# bw = scipy.ndimage.binary_opening(bw,iterations=1, border_value=0)\n",
    "\n",
    "# add endplates\n",
    "# bw = ciclope.utils.preprocess.add_cap(np.transpose(bw, axes=(1,2,0)), 10, 1)"
   ]
  },
  {
   "cell_type": "code",
   "execution_count": null,
   "metadata": {},
   "outputs": [],
   "source": [
    "# generate mesh from array\n",
    "filename_mesh_out = '/Users/gianthk/Desktop/'+samplename+'_tetramesh.vtk'\n",
    "mesh_size_factor = 2\n",
    "m1 = ciclope.tetraFE.cgal_mesh(bw, vs, 'tetra', mesh_size_factor*min(vs), 2*mesh_size_factor*min(vs))"
   ]
  },
  {
   "cell_type": "code",
   "execution_count": null,
   "metadata": {},
   "outputs": [],
   "source": [
    "# write mesh to file\n",
    "m1.write(filename_mesh_out)"
   ]
  },
  {
   "cell_type": "code",
   "execution_count": null,
   "metadata": {},
   "outputs": [],
   "source": [
    "# pad with one voxel layer of zeros\n",
    "bw = np.pad(bw, 3, 'constant', constant_values=0)"
   ]
  },
  {
   "cell_type": "code",
   "execution_count": null,
   "metadata": {},
   "outputs": [],
   "source": [
    "# smooth edges of the binary image\n",
    "bw = mcubes.smooth(bw)"
   ]
  },
  {
   "cell_type": "code",
   "execution_count": null,
   "metadata": {},
   "outputs": [],
   "source": [
    "# surface mesh using marching cubes\n",
    "vertices, triangles = mcubes.marching_cubes(bw, 0.1)"
   ]
  },
  {
   "cell_type": "code",
   "execution_count": null,
   "metadata": {},
   "outputs": [],
   "source": [
    "# write surface mesh\n",
    "filename_surfacemesh_out = '/Users/gianthk/Desktop/'+samplename+'_surfacemesh.obj'\n",
    "mcubes.export_obj(vertices, triangles, filename_surfacemesh_out)"
   ]
  }
 ],
 "metadata": {
  "kernelspec": {
   "display_name": "Python 3",
   "language": "python",
   "name": "python3"
  },
  "language_info": {
   "name": "python",
   "version": "3.11.11"
  }
 },
 "nbformat": 4,
 "nbformat_minor": 2
}
