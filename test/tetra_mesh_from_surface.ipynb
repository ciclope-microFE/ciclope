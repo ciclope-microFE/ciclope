{
 "cells": [
  {
   "cell_type": "code",
   "execution_count": 1,
   "metadata": {},
   "outputs": [],
   "source": [
    "import SimpleITK as sitk\n",
    "import ciclope\n",
    "import meshio\n",
    "import ciclope.utils\n",
    "from ciclope.utils.preprocess import remove_unconnected\n",
    "import scipy\n",
    "import numpy as np\n",
    "import mcubes\n",
    "import pygalmesh\n",
    "from ciclope.utils.recon_utils import read_tiff_stack\n",
    "from skimage.filters import threshold_otsu, gaussian\n",
    "from scipy import ndimage, misc\n",
    "\n",
    "import ciclope.utils.preprocess"
   ]
  },
  {
   "cell_type": "code",
   "execution_count": null,
   "metadata": {},
   "outputs": [],
   "source": [
    "input_file = '/Users/gianthk/Code/ORMIR/ciclope/test_data/LHDL/3155_D_4_bc/cropped/3155_D_4_bc_0000.tif'\n",
    "samplename = 'trab' # 'scaffold'\n",
    "output_dir = '/Users/gianthk/Desktop/'"
   ]
  },
  {
   "cell_type": "code",
   "execution_count": null,
   "metadata": {},
   "outputs": [],
   "source": [
    "# read test image\n",
    "data_3D = read_tiff_stack(input_file)\n",
    "voxelsize = 19.5e-3\n",
    "vs = np.ones(3)*voxelsize # [mm]"
   ]
  },
  {
   "cell_type": "code",
   "execution_count": null,
   "metadata": {},
   "outputs": [],
   "source": [
    "# gaussian filter\n",
    "data_3D = gaussian(data_3D, sigma=1, preserve_range=True)"
   ]
  },
  {
   "cell_type": "code",
   "execution_count": null,
   "metadata": {},
   "outputs": [],
   "source": [
    "# downsample\n",
    "resampling = 1\n",
    "\n",
    "# resize the 3D data using spline interpolation of order 2\n",
    "# data_3D = ndimage.zoom(data_3D, 1/resampling, output=None, order=2)\n",
    "\n",
    "# correct voxelsize\n",
    "vs = vs * resampling"
   ]
  },
  {
   "cell_type": "code",
   "execution_count": null,
   "metadata": {},
   "outputs": [],
   "source": [
    "# thresholding\n",
    "T = threshold_otsu(data_3D)\n",
    "# bw = data_3D > T\n",
    "bw = data_3D > 63 # from comparison with histology\n",
    "\n",
    "# remove unconnected components\n",
    "bw = remove_unconnected(bw)\n",
    "\n",
    "# simplify\n",
    "# bw = scipy.ndimage.binary_closing(bw,iterations=1, border_value=1)\n",
    "# bw = scipy.ndimage.binary_opening(bw,iterations=1, border_value=0)\n",
    "\n",
    "# add endplates\n",
    "# bw = ciclope.utils.preprocess.add_cap(np.transpose(bw, axes=(1,2,0)), 10, 1)"
   ]
  },
  {
   "cell_type": "code",
   "execution_count": null,
   "metadata": {},
   "outputs": [],
   "source": [
    "# direct generation of tetrahedra mesh from array\n",
    "filename_mesh_out = output_dir+samplename+'_tetramesh.vtk'\n",
    "mesh_size_factor = 2\n",
    "m1 = ciclope.tetraFE.cgal_mesh(bw, vs, 'tetra', mesh_size_factor*min(vs), 2*mesh_size_factor*min(vs))"
   ]
  },
  {
   "cell_type": "code",
   "execution_count": null,
   "metadata": {},
   "outputs": [],
   "source": [
    "# write mesh to file\n",
    "m1.write(filename_mesh_out)"
   ]
  },
  {
   "cell_type": "code",
   "execution_count": null,
   "metadata": {},
   "outputs": [],
   "source": [
    "# pad binary image with a layer of zeros\n",
    "bw = np.pad(bw, 3, 'constant', constant_values=0)"
   ]
  },
  {
   "cell_type": "code",
   "execution_count": null,
   "metadata": {},
   "outputs": [],
   "source": [
    "# smooth the surface of binary image\n",
    "# bw = mcubes.smooth(bw)"
   ]
  },
  {
   "cell_type": "code",
   "execution_count": null,
   "metadata": {},
   "outputs": [],
   "source": [
    "# generate surface mesh using marching cubes\n",
    "# https://github.com/pmneila/PyMCubes/tree/master\n",
    "\n",
    "vertices, triangles = mcubes.marching_cubes(bw, 0.5)\n",
    "\n",
    "vertices = vertices * voxelsize\n",
    "vertices = vertices[:,(2,1,0)]"
   ]
  },
  {
   "cell_type": "code",
   "execution_count": null,
   "metadata": {},
   "outputs": [],
   "source": [
    "# write surface mesh\n",
    "filename_surfacemesh_out = output_dir+samplename+'_surfacemesh.obj'\n",
    "mcubes.export_obj(vertices, triangles, filename_surfacemesh_out)"
   ]
  },
  {
   "cell_type": "code",
   "execution_count": null,
   "metadata": {},
   "outputs": [],
   "source": [
    "# remeshing an existing surface mesh\n",
    "# as described here: https://github.com/meshpro/pygalmesh?tab=readme-ov-file#surface-remeshing\n",
    "\n",
    "# m11 = pygalmesh.remesh_surface(\n",
    "#     filename_surfacemesh_out,\n",
    "#     max_edge_size_at_feature_edges=3*voxelsize,\n",
    "#     min_facet_angle=20,\n",
    "#     max_radius_surface_delaunay_ball=5*voxelsize,\n",
    "#     max_facet_distance=3*voxelsize,\n",
    "#     verbose=True,\n",
    "# )"
   ]
  },
  {
   "cell_type": "code",
   "execution_count": null,
   "metadata": {},
   "outputs": [],
   "source": [
    "# write mesh to file\n",
    "\n",
    "# filename_mesh_out = output_dir+samplename+'_surfacemesh_refined.vtk'\n",
    "# m11.write(filename_mesh_out)"
   ]
  },
  {
   "cell_type": "code",
   "execution_count": null,
   "metadata": {},
   "outputs": [],
   "source": [
    "# volume mesh from surface mesh\n",
    "m2 = pygalmesh.generate_volume_mesh_from_surface_mesh(\n",
    "    filename_surfacemesh_out,\n",
    "    min_facet_angle=20.0,\n",
    "    max_radius_surface_delaunay_ball=4*voxelsize,\n",
    "    max_facet_distance=voxelsize,\n",
    "    max_circumradius_edge_ratio=3.0,\n",
    "    verbose=True,\n",
    "    reorient=True,\n",
    ")"
   ]
  },
  {
   "cell_type": "code",
   "execution_count": null,
   "metadata": {},
   "outputs": [],
   "source": [
    "# write mesh to file\n",
    "filename_mesh_out = output_dir+samplename+'_tetramesh_from_surface.vtk'\n",
    "m2.write(filename_mesh_out)"
   ]
  }
 ],
 "metadata": {
  "kernelspec": {
   "display_name": "Python 3",
   "language": "python",
   "name": "python3"
  },
  "language_info": {
   "codemirror_mode": {
    "name": "ipython",
    "version": 3
   },
   "file_extension": ".py",
   "mimetype": "text/x-python",
   "name": "python",
   "nbconvert_exporter": "python",
   "pygments_lexer": "ipython3",
   "version": "3.11.11"
  }
 },
 "nbformat": 4,
 "nbformat_minor": 2
}
