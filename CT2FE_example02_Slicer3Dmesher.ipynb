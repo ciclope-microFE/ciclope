{
 "cells": [
  {
   "cell_type": "markdown",
   "metadata": {},
   "source": [
    "# CT2FE example 02\n",
    "## CT dataset to tethraedra mesh and FE model solution in Calculix\n",
    "11-01-2021\n",
    "\n",
    "The preprocessing of this example is performed in 3D Slicer using the extension [SlicerSegmenterMesher](https://github.com/lassoan/SlicerSegmentMesher#tutorial). <br />\n",
    "This extension of 3D Slicer allows the creation of volumetric meshes from segmented 3D data using Cleaver2 or TetGen. <br />\n",
    "The full SlicerSegmentMesher tutorial can be found here:\n",
    "https://github.com/lassoan/SlicerSegmentMesher#tutorial  <br />\n",
    "For info on the solver see the Calculix homepage:\n",
    "http://www.calculix.de/"
   ]
  },
  {
   "cell_type": "markdown",
   "metadata": {},
   "source": [
    "#### Activate CT2FE kernel in Jupyter:\n",
    "`conda env list`\n",
    "\n",
    "`conda activate CT2FE`\n",
    "\n",
    "`python -m ipykernel install --user --name CT2FE --display-name \"Python (CT2FE)\"`"
   ]
  },
  {
   "cell_type": "markdown",
   "metadata": {},
   "source": [
    "## Basic configurations"
   ]
  },
  {
   "cell_type": "code",
   "execution_count": 21,
   "metadata": {},
   "outputs": [
    {
     "name": "stderr",
     "output_type": "stream",
     "text": [
      "astropy module not found\n"
     ]
    }
   ],
   "source": [
    "import os\n",
    "import numpy as np\n",
    "import tifffile\n",
    "import dxchange\n",
    "import matplotlib\n",
    "import matplotlib.pyplot as plt"
   ]
  },
  {
   "cell_type": "code",
   "execution_count": 2,
   "metadata": {},
   "outputs": [],
   "source": [
    "matplotlib.rcParams['figure.dpi'] = 100"
   ]
  },
  {
   "cell_type": "code",
   "execution_count": 3,
   "metadata": {},
   "outputs": [],
   "source": [
    "import logging\n",
    "logging.basicConfig(level=logging.INFO)"
   ]
  },
  {
   "cell_type": "markdown",
   "metadata": {},
   "source": [
    "#### Inputs and parameters definition"
   ]
  },
  {
   "cell_type": "code",
   "execution_count": 4,
   "metadata": {},
   "outputs": [],
   "source": [
    "# input_file = 'test_data/example_02/masked_8bit/scan-sample_15-3-crop_c0001.tif'\n",
    "# filename_in, ext = os.path.split(input_file)\n",
    "# vs = [0.0065, 0.0065, 0.0065] # voxel size"
   ]
  },
  {
   "cell_type": "code",
   "execution_count": 5,
   "metadata": {},
   "outputs": [],
   "source": [
    "Fiij_exe = '/home/gianthk/Applications/Fiji.app/ImageJ-linux64'\n",
    "Fiji_exe_stack = Fiij_exe + ' -macro /home/gianthk/Applications/Fiji.app/macros/FolderOpener_virtual.ijm '"
   ]
  },
  {
   "cell_type": "markdown",
   "metadata": {},
   "source": [
    "## Pre-processing\n",
    "The following steps are performed in [3D Slicer](https://www.slicer.org/)\n",
    "- [x] **3D rotate** (**Transforms** module). Apply a rigid rotation (manual) along P-A and R-L planes to align the strut vertically. \n",
    "![](test_data/example_02/3DSlicer_transform.png)\n",
    "- [x] **Orient Scalar Volume** (**Converters** module): Orientation: axial (NO)\n",
    "- [x] **Crop Volume** (**Converters** module): limit the model size and flattens the strut top and bottom\n",
    "- [x] **3D global threshold** (Kittler-Illingworth)\n",
    "    - [x] Smooth with closing method (fill holes)\n",
    "    - [x] Invert (twice) and remove small islands\n",
    "    - [x] Add the large pores segmented separately\n",
    "    - [x] Median smoothing\n",
    "- [x] **Segmenter Mesher**\n",
    "    - Feature scaling: 0.8\n",
    "    - Sampling rate: 0.5\n",
    "    - Rate of change el size: 0.4\n",
    "\n"
   ]
  },
  {
   "cell_type": "markdown",
   "metadata": {},
   "source": [
    "## Modify VTK unstructured grid mesh; generate CalculiX input\n",
    "\n",
    "We will need to modify the mesh in the following way: <br />\n",
    "\n",
    "- [ ] Add points sets for boundary nodes: NODES_S, NODES_N, NODES_E, NODES_W, NODES_T, NODES_B\n",
    "- [ ] Add elemets sets for boundary elements: ELEMS_S, ELEMS_N, ELEMS_E, ELEMS_W, ELEMS_T, ELEMS_B\n",
    "- [ ] ...\n",
    "\n",
    "We use the module *meshio* to import the mesh. "
   ]
  },
  {
   "cell_type": "code",
   "execution_count": 1,
   "metadata": {},
   "outputs": [],
   "source": [
    "import meshio"
   ]
  },
  {
   "cell_type": "code",
   "execution_count": 5,
   "metadata": {},
   "outputs": [
    {
     "data": {
      "text/plain": [
       "{'points': array([[303.579   , 306.325   , 104.5993  ],\n",
       "        [297.65    , 312.2541  ,  98.670296],\n",
       "        [303.7763  , 324.3659  , 104.6251  ],\n",
       "        ...,\n",
       "        [ 83.271996, 193.76599 , 362.8216  ],\n",
       "        [ 83.311   , 193.76599 , 365.02863 ],\n",
       "        [ 83.590996, 193.76599 , 367.2356  ]], dtype=float32),\n",
       " 'cells': [<meshio CellBlock, type: tetra, num cells: 742468>],\n",
       " 'point_data': {},\n",
       " 'cell_data': {'labels': [array([1, 1, 1, ..., 1, 1, 1], dtype=int32)]},\n",
       " 'field_data': {},\n",
       " 'point_sets': {},\n",
       " 'cell_sets': {},\n",
       " 'gmsh_periodic': None,\n",
       " 'info': None}"
      ]
     },
     "execution_count": 5,
     "metadata": {},
     "output_type": "execute_result"
    }
   ],
   "source": [
    "filename = '/home/gianthk/Data/TOMCAT/Kaya/D_single_h1h2_3DSlicer/D_single.vtk'\n",
    "mesh = meshio.read(filename)\n",
    "vars(mesh)"
   ]
  },
  {
   "cell_type": "code",
   "execution_count": 33,
   "metadata": {},
   "outputs": [],
   "source": [
    "# find model boundaries\n",
    "model_coors_max = np.amax(mesh.points, 0) # [microns?]\n",
    "model_coors_min = np.amin(mesh.points, 0)"
   ]
  },
  {
   "cell_type": "code",
   "execution_count": 70,
   "metadata": {},
   "outputs": [],
   "source": [
    "# find boundary points\n",
    "NODES_E = np.where(mesh.points[:,0] == model_coors_min[0])[0]\n",
    "NODES_W = np.where(mesh.points[:,0] == model_coors_max[0])[0]\n",
    "NODES_S = np.where(mesh.points[:,1] == model_coors_min[1])[0]\n",
    "NODES_N = np.where(mesh.points[:,1] == model_coors_max[1])[0]\n",
    "NODES_B = np.where(mesh.points[:,2] == model_coors_min[2])[0]\n",
    "NODES_T = np.where(mesh.points[:,2] == model_coors_max[2])[0]"
   ]
  },
  {
   "cell_type": "code",
   "execution_count": 86,
   "metadata": {},
   "outputs": [],
   "source": [
    "# add dictionary of point sets\n",
    "mesh.point_sets = {\n",
    "    'NODES_N': NODES_N,\n",
    "    'NODES_S': NODES_S,\n",
    "    'NODES_W': NODES_W,\n",
    "    'NODES_E': NODES_E,\n",
    "    'NODES_T': NODES_T,\n",
    "    'NODES_B': NODES_B\n",
    "    }"
   ]
  },
  {
   "cell_type": "code",
   "execution_count": 248,
   "metadata": {},
   "outputs": [],
   "source": [
    "# find boundary cells\n",
    "ELEMS_E = np.array([]).astype('int')\n",
    "ELEMS_W = np.array([]).astype('int')\n",
    "ELEMS_S = np.array([]).astype('int')\n",
    "ELEMS_N = np.array([]).astype('int')\n",
    "ELEMS_T = np.array([]).astype('int')\n",
    "ELEMS_B = np.array([]).astype('int')\n",
    "\n",
    "for node_e in NODES_E:\n",
    "    ELEMS_E = np.append(ELEMS_E, np.where(np.any(mesh.cells[0][1] == node_e, axis=1)))\n",
    "\n",
    "for node_w in NODES_W:\n",
    "    ELEMS_W = np.append(ELEMS_W, np.where(np.any(mesh.cells[0][1] == node_w, axis=1)))\n",
    "\n",
    "for node_s in NODES_S:\n",
    "    ELEMS_S = np.append(ELEMS_S, np.where(np.any(mesh.cells[0][1] == node_s, axis=1)))\n",
    "\n",
    "for node_n in NODES_N:\n",
    "    ELEMS_N = np.append(ELEMS_N, np.where(np.any(mesh.cells[0][1] == node_n, axis=1)))\n",
    "\n",
    "for node_t in NODES_T:\n",
    "    ELEMS_T = np.append(ELEMS_T, np.where(np.any(mesh.cells[0][1] == node_t, axis=1)))\n",
    "\n",
    "for node_b in NODES_B:\n",
    "    ELEMS_B = np.append(ELEMS_B, np.where(np.any(mesh.cells[0][1] == node_b, axis=1)))"
   ]
  },
  {
   "cell_type": "code",
   "execution_count": 250,
   "metadata": {},
   "outputs": [
    {
     "data": {
      "text/plain": [
       "array([     1,      2,      3, ..., 697625, 697665, 697666])"
      ]
     },
     "execution_count": 250,
     "metadata": {},
     "output_type": "execute_result"
    }
   ],
   "source": [
    "np.unique(ELEMS_B)+1"
   ]
  },
  {
   "cell_type": "code",
   "execution_count": 251,
   "metadata": {},
   "outputs": [],
   "source": [
    "mesh.cell_sets = {\n",
    "    'ELEMS_N': np.unique(ELEMS_N)+1,\n",
    "    'ELEMS_S': np.unique(ELEMS_S)+1,\n",
    "    'ELEMS_W': np.unique(ELEMS_W)+1,\n",
    "    'ELEMS_E': np.unique(ELEMS_E)+1,\n",
    "    'ELEMS_T': np.unique(ELEMS_T)+1,\n",
    "    'ELEMS_B': np.unique(ELEMS_B)+1,\n",
    "    'SET1': np.arange(1, len(mesh.cells[0][1]))\n",
    "    }"
   ]
  },
  {
   "cell_type": "code",
   "execution_count": 238,
   "metadata": {},
   "outputs": [
    {
     "data": {
      "text/plain": [
       "742468"
      ]
     },
     "execution_count": 238,
     "metadata": {},
     "output_type": "execute_result"
    }
   ],
   "source": [
    "len(mesh.cells[0][1])"
   ]
  },
  {
   "cell_type": "code",
   "execution_count": 242,
   "metadata": {},
   "outputs": [
    {
     "data": {
      "text/plain": [
       "47558"
      ]
     },
     "execution_count": 242,
     "metadata": {},
     "output_type": "execute_result"
    }
   ],
   "source": [
    "np.arange(1,10)\n",
    "NODES_T[0]"
   ]
  },
  {
   "cell_type": "code",
   "execution_count": 208,
   "metadata": {},
   "outputs": [],
   "source": [
    "ELEMS_B = np.array([]).astype('int')\n",
    "for node_b in NODES_B:\n",
    "    ELEMS_B = np.append(ELEMS_B, np.where(np.any(mesh.cells[0][1] == node_b, axis=1).tolist()))"
   ]
  },
  {
   "cell_type": "code",
   "execution_count": 210,
   "metadata": {},
   "outputs": [],
   "source": [
    "mesh.cell_sets = {\n",
    "    'ELEMS_B': np.unique(ELEMS_B)\n",
    "    }"
   ]
  },
  {
   "cell_type": "code",
   "execution_count": 221,
   "metadata": {},
   "outputs": [],
   "source": [
    "# empty cell_sets\n",
    "mesh.cell_sets = {}"
   ]
  },
  {
   "cell_type": "markdown",
   "metadata": {},
   "source": [
    "## Add material mapping"
   ]
  },
  {
   "cell_type": "code",
   "execution_count": 252,
   "metadata": {},
   "outputs": [
    {
     "data": {
      "text/plain": [
       "{'points': array([[303.579   , 306.325   , 104.5993  ],\n",
       "        [297.65    , 312.2541  ,  98.670296],\n",
       "        [303.7763  , 324.3659  , 104.6251  ],\n",
       "        ...,\n",
       "        [ 83.271996, 193.76599 , 362.8216  ],\n",
       "        [ 83.311   , 193.76599 , 365.02863 ],\n",
       "        [ 83.590996, 193.76599 , 367.2356  ]], dtype=float32),\n",
       " 'cells': [<meshio CellBlock, type: tetra, num cells: 742468>],\n",
       " 'point_data': {},\n",
       " 'cell_data': {'labels': [array([1, 1, 1, ..., 1, 1, 1], dtype=int32)]},\n",
       " 'field_data': {},\n",
       " 'point_sets': {'NODES_N': array([1363]),\n",
       "  'NODES_S': array([150191]),\n",
       "  'NODES_W': array([1515]),\n",
       "  'NODES_E': array([30737]),\n",
       "  'NODES_T': array([ 47558,  47564,  47565, ..., 162186, 162187, 162189]),\n",
       "  'NODES_B': array([     1,      3,      4, ..., 154049, 154050, 154051])},\n",
       " 'cell_sets': {'ELEMS_N': array([  1831,   1832,   1833,   1834,   1835,   1836,   1837,   1838,\n",
       "         600382, 600383, 600384]),\n",
       "  'ELEMS_S': array([590950, 590951, 590955, 590956, 590958, 590959, 590964, 590971,\n",
       "         590972, 590973, 590976]),\n",
       "  'ELEMS_W': array([  2138, 598858, 598859, 600607, 600621]),\n",
       "  'ELEMS_E': array([102408, 102409, 102410, 102411]),\n",
       "  'ELEMS_T': array([158824, 158833, 158834, ..., 741195, 741196, 741197]),\n",
       "  'ELEMS_B': array([     1,      2,      3, ..., 697625, 697665, 697666]),\n",
       "  'SET1': array([     1,      2,      3, ..., 742465, 742466, 742467])},\n",
       " 'gmsh_periodic': None,\n",
       " 'info': None}"
      ]
     },
     "execution_count": 252,
     "metadata": {},
     "output_type": "execute_result"
    }
   ],
   "source": [
    "vars(mesh)"
   ]
  },
  {
   "cell_type": "code",
   "execution_count": null,
   "metadata": {},
   "outputs": [],
   "source": []
  },
  {
   "cell_type": "code",
   "execution_count": null,
   "metadata": {},
   "outputs": [],
   "source": []
  },
  {
   "cell_type": "markdown",
   "metadata": {},
   "source": [
    "## Write Abaqus output"
   ]
  },
  {
   "cell_type": "code",
   "execution_count": 253,
   "metadata": {},
   "outputs": [
    {
     "ename": "TypeError",
     "evalue": "object of type 'numpy.int64' has no len()",
     "output_type": "error",
     "traceback": [
      "\u001b[0;31m---------------------------------------------------------------------------\u001b[0m",
      "\u001b[0;31mTypeError\u001b[0m                                 Traceback (most recent call last)",
      "\u001b[0;32m<ipython-input-253-799c57126ba5>\u001b[0m in \u001b[0;36m<module>\u001b[0;34m\u001b[0m\n\u001b[1;32m      1\u001b[0m \u001b[0;31m# write Abaqus mesh using meshio\u001b[0m\u001b[0;34m\u001b[0m\u001b[0;34m\u001b[0m\u001b[0;34m\u001b[0m\u001b[0m\n\u001b[1;32m      2\u001b[0m \u001b[0mfilename_out\u001b[0m \u001b[0;34m=\u001b[0m \u001b[0;34m'/home/gianthk/Data/TOMCAT/Kaya/D_single_h1h2_3DSlicer/D_single.inp'\u001b[0m\u001b[0;34m\u001b[0m\u001b[0;34m\u001b[0m\u001b[0m\n\u001b[0;32m----> 3\u001b[0;31m \u001b[0mmeshio\u001b[0m\u001b[0;34m.\u001b[0m\u001b[0mabaqus\u001b[0m\u001b[0;34m.\u001b[0m\u001b[0mwrite\u001b[0m\u001b[0;34m(\u001b[0m\u001b[0mfilename_out\u001b[0m\u001b[0;34m,\u001b[0m \u001b[0mmesh\u001b[0m\u001b[0;34m,\u001b[0m \u001b[0mfloat_fmt\u001b[0m\u001b[0;34m=\u001b[0m\u001b[0;34m\".6e\"\u001b[0m\u001b[0;34m)\u001b[0m\u001b[0;34m\u001b[0m\u001b[0;34m\u001b[0m\u001b[0m\n\u001b[0m",
      "\u001b[0;32m~/anaconda3/envs/CT2FE/lib/python3.8/site-packages/meshio/abaqus/_abaqus.py\u001b[0m in \u001b[0;36mwrite\u001b[0;34m(filename, mesh, float_fmt, translate_cell_names)\u001b[0m\n\u001b[1;32m    417\u001b[0m         \u001b[0;32mfor\u001b[0m \u001b[0mic\u001b[0m \u001b[0;32min\u001b[0m \u001b[0mrange\u001b[0m\u001b[0;34m(\u001b[0m\u001b[0mlen\u001b[0m\u001b[0;34m(\u001b[0m\u001b[0mmesh\u001b[0m\u001b[0;34m.\u001b[0m\u001b[0mcells\u001b[0m\u001b[0;34m)\u001b[0m\u001b[0;34m)\u001b[0m\u001b[0;34m:\u001b[0m\u001b[0;34m\u001b[0m\u001b[0;34m\u001b[0m\u001b[0m\n\u001b[1;32m    418\u001b[0m             \u001b[0;32mfor\u001b[0m \u001b[0mk\u001b[0m\u001b[0;34m,\u001b[0m \u001b[0mv\u001b[0m \u001b[0;32min\u001b[0m \u001b[0mmesh\u001b[0m\u001b[0;34m.\u001b[0m\u001b[0mcell_sets\u001b[0m\u001b[0;34m.\u001b[0m\u001b[0mitems\u001b[0m\u001b[0;34m(\u001b[0m\u001b[0;34m)\u001b[0m\u001b[0;34m:\u001b[0m\u001b[0;34m\u001b[0m\u001b[0;34m\u001b[0m\u001b[0m\n\u001b[0;32m--> 419\u001b[0;31m                 \u001b[0;32mif\u001b[0m \u001b[0mlen\u001b[0m\u001b[0;34m(\u001b[0m\u001b[0mv\u001b[0m\u001b[0;34m[\u001b[0m\u001b[0mic\u001b[0m\u001b[0;34m]\u001b[0m\u001b[0;34m)\u001b[0m \u001b[0;34m>\u001b[0m \u001b[0;36m0\u001b[0m\u001b[0;34m:\u001b[0m\u001b[0;34m\u001b[0m\u001b[0;34m\u001b[0m\u001b[0m\n\u001b[0m\u001b[1;32m    420\u001b[0m                     \u001b[0mels\u001b[0m \u001b[0;34m=\u001b[0m \u001b[0;34m[\u001b[0m\u001b[0mstr\u001b[0m\u001b[0;34m(\u001b[0m\u001b[0mi\u001b[0m \u001b[0;34m+\u001b[0m \u001b[0;36m1\u001b[0m \u001b[0;34m+\u001b[0m \u001b[0moffset\u001b[0m\u001b[0;34m)\u001b[0m \u001b[0;32mfor\u001b[0m \u001b[0mi\u001b[0m \u001b[0;32min\u001b[0m \u001b[0mv\u001b[0m\u001b[0;34m[\u001b[0m\u001b[0mic\u001b[0m\u001b[0;34m]\u001b[0m\u001b[0;34m]\u001b[0m\u001b[0;34m\u001b[0m\u001b[0;34m\u001b[0m\u001b[0m\n\u001b[1;32m    421\u001b[0m                     \u001b[0mf\u001b[0m\u001b[0;34m.\u001b[0m\u001b[0mwrite\u001b[0m\u001b[0;34m(\u001b[0m\u001b[0;34mf\"*ELSET, ELSET={k}\\n\"\u001b[0m\u001b[0;34m)\u001b[0m\u001b[0;34m\u001b[0m\u001b[0;34m\u001b[0m\u001b[0m\n",
      "\u001b[0;31mTypeError\u001b[0m: object of type 'numpy.int64' has no len()"
     ]
    }
   ],
   "source": [
    "# write Abaqus mesh using meshio\n",
    "filename_out = '/home/gianthk/Data/TOMCAT/Kaya/D_single_h1h2_3DSlicer/CalculiX/D_single.inp'\n",
    "meshio.abaqus.write(filename_out, mesh, float_fmt=\".6e\")"
   ]
  },
  {
   "cell_type": "code",
   "execution_count": 73,
   "metadata": {},
   "outputs": [
    {
     "data": {
      "text/plain": [
       "array([3, 4, 0, 1], dtype=int32)"
      ]
     },
     "execution_count": 73,
     "metadata": {},
     "output_type": "execute_result"
    }
   ],
   "source": []
  },
  {
   "cell_type": "code",
   "execution_count": 57,
   "metadata": {},
   "outputs": [
    {
     "data": {
      "text/plain": [
       "array([[303.579   , 306.325   , 104.5993  ],\n",
       "       [297.65    , 312.2541  ,  98.670296],\n",
       "       [303.7763  , 324.3659  , 104.6251  ],\n",
       "       ...,\n",
       "       [ 83.271996, 193.76599 , 362.8216  ],\n",
       "       [ 83.311   , 193.76599 , 365.02863 ],\n",
       "       [ 83.590996, 193.76599 , 367.2356  ]], dtype=float32)"
      ]
     },
     "execution_count": 57,
     "metadata": {},
     "output_type": "execute_result"
    }
   ],
   "source": [
    "mesh.points"
   ]
  },
  {
   "cell_type": "code",
   "execution_count": 254,
   "metadata": {},
   "outputs": [],
   "source": [
    "# test Abaqus mesh read\n",
    "test_filename = '/home/gianthk/PycharmProjects/CT2FE/test_data/example_01/pippo.inp'\n",
    "tmp = meshio.abaqus.read(test_filename)"
   ]
  },
  {
   "cell_type": "code",
   "execution_count": 269,
   "metadata": {},
   "outputs": [],
   "source": [
    "# vars(tmp)"
   ]
  },
  {
   "cell_type": "code",
   "execution_count": 256,
   "metadata": {},
   "outputs": [
    {
     "data": {
      "text/plain": [
       "101"
      ]
     },
     "execution_count": 256,
     "metadata": {},
     "output_type": "execute_result"
    }
   ],
   "source": [
    "len(tmp.cells)"
   ]
  },
  {
   "cell_type": "code",
   "execution_count": 260,
   "metadata": {},
   "outputs": [
    {
     "data": {
      "text/plain": [
       "list"
      ]
     },
     "execution_count": 260,
     "metadata": {},
     "output_type": "execute_result"
    }
   ],
   "source": [
    "type(tmp.cell_sets['SET3'])"
   ]
  },
  {
   "cell_type": "code",
   "execution_count": null,
   "metadata": {},
   "outputs": [],
   "source": []
  },
  {
   "cell_type": "markdown",
   "metadata": {},
   "source": [
    "#### Visualize template CalculiX analisys definition"
   ]
  },
  {
   "cell_type": "code",
   "execution_count": 54,
   "metadata": {},
   "outputs": [
    {
     "name": "stdout",
     "output_type": "stream",
     "text": [
      "** ---------------------------------------------------\n",
      "** The Step module defines the analysis steps and associated output requests. Mo\n",
      "re info at:\n",
      "** https://abaqus-docs.mit.edu/2017/English/SIMACAECAERefMap/simacae-m-Sim-sb.ht\n",
      "m#simacae-m-Sim-sb\n",
      "** ---------------------------------------------------\n",
      "*STEP\n",
      "*STATIC\n",
      "*BOUNDARY\n",
      "NODES_B, 1, 3, 0.0\n",
      "*BOUNDARY\n",
      "NODES_T, 3, 3, -0.01\n",
      "*NODE FILE\n",
      "U\n",
      "*EL FILE\n",
      "S\n",
      "*END STEP\n"
     ]
    }
   ],
   "source": [
    "!more {template_inp}"
   ]
  },
  {
   "cell_type": "code",
   "execution_count": 55,
   "metadata": {},
   "outputs": [
    {
     "name": "stderr",
     "output_type": "stream",
     "text": [
      "INFO:root:Data loaded with size 34 x 80 x 80\n",
      "INFO:root:User material properties defined.\n",
      "INFO:root:Reading Abaqus template file ./temp.inp\n",
      "INFO:root:Data written to file test_data/example_01/pippo.inp\n"
     ]
    }
   ],
   "source": [
    "input_file = 'test_data/example_01/masked_8bit_cap/scan-sample_15-3-crop_c_0000.tiff'\n",
    "filename_out, ext_out = os.path.splitext(output_file)\n",
    "template_inp = './temp.inp'\n",
    "%run stack2Abaqus.py {input_file} {output_file} -vs {vs[0]} {vs[1]} {vs[2]} -k NODE ELEMENT NSET PROPERTY -p 'prop_bone.inp' 'prop_steel.inp' -pr 1:250 254:255 -t {template_inp} -v True"
   ]
  },
  {
   "cell_type": "markdown",
   "metadata": {},
   "source": [
    "## Solve FE model in calculix\n",
    "The following section assumes that you have the Calculix solver installed and accessible with the command `ccx_2.17` or for multithread option `ccx_2.17_MT` <br />\n",
    "The multithread option in CalculiX is activated by defining the number of threads (default=1) used for the calculation.<br />\n",
    "This is done by setting the env variable *OMP_NUM_THREADS* with:\n",
    "`export OMP_NUM_THREADS=8`\n",
    "\n"
   ]
  },
  {
   "cell_type": "code",
   "execution_count": 263,
   "metadata": {},
   "outputs": [],
   "source": [
    "# !export OMP_NUM_THREADS=8; ccx_2.17_MT {filename_out}"
   ]
  },
  {
   "cell_type": "markdown",
   "metadata": {},
   "source": [
    "### Convert Calculix output to Paraview\n",
    "The following sections assume that you have **ccx2paraview** and **Paraview** installed and working.<br /> For more info visit: <br />\n",
    "https://www.paraview.org/ <br />\n",
    "https://github.com/calculix/ccx2paraview"
   ]
  },
  {
   "cell_type": "code",
   "execution_count": 264,
   "metadata": {},
   "outputs": [],
   "source": [
    "import ccx2paraview"
   ]
  },
  {
   "cell_type": "code",
   "execution_count": 270,
   "metadata": {},
   "outputs": [
    {
     "data": {
      "text/plain": [
       "'/home/gianthk/Data/TOMCAT/Kaya/D_single_h1h2_3DSlicer/CalculiX/D_single'"
      ]
     },
     "execution_count": 270,
     "metadata": {},
     "output_type": "execute_result"
    }
   ],
   "source": [
    "filename_out = '/home/gianthk/Data/TOMCAT/Kaya/D_single_h1h2_3DSlicer/CalculiX/D_single.inp'\n",
    "filename_out_base, ext_out = os.path.splitext(filename_out)\n",
    "filename_out_base"
   ]
  },
  {
   "cell_type": "code",
   "execution_count": 271,
   "metadata": {},
   "outputs": [
    {
     "name": "stdout",
     "output_type": "stream",
     "text": [
      "\n"
     ]
    }
   ],
   "source": [
    "ccx2paraview.Converter(filename_out_base + '.frd', ['vtk']).run()"
   ]
  },
  {
   "cell_type": "markdown",
   "metadata": {},
   "source": [
    "Visualize results in Paraview"
   ]
  },
  {
   "cell_type": "code",
   "execution_count": 65,
   "metadata": {},
   "outputs": [],
   "source": [
    "!paraview filename_out_base + '.vtk'"
   ]
  },
  {
   "cell_type": "markdown",
   "metadata": {},
   "source": [
    "![](test_data/example_01/masked_8bit_cap1.png)"
   ]
  }
 ],
 "metadata": {
  "kernelspec": {
   "display_name": "conda (CT2FE)",
   "language": "python",
   "name": "ct2fe"
  },
  "language_info": {
   "codemirror_mode": {
    "name": "ipython",
    "version": 3
   },
   "file_extension": ".py",
   "mimetype": "text/x-python",
   "name": "python",
   "nbconvert_exporter": "python",
   "pygments_lexer": "ipython3",
   "version": "3.8.5"
  }
 },
 "nbformat": 4,
 "nbformat_minor": 4
}
