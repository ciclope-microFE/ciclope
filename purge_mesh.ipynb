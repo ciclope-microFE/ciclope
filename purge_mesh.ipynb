{
 "cells": [
  {
   "cell_type": "code",
   "execution_count": 11,
   "metadata": {},
   "outputs": [
    {
     "name": "stdout",
     "output_type": "stream",
     "text": [
      "[[0 1 2]\n",
      " [2 1 3]\n",
      " [4 5 6]\n",
      " [6 5 7]]\n"
     ]
    }
   ],
   "source": [
    "import numpy as np\n",
    "import matplotlib.pyplot as plt\n",
    "import matplotlib.tri as tri\n",
    "\n",
    "N1 = np.matrix([(0, 0),(1, 0),(0, 1),(1, 1)])\n",
    "num_nodi = N1.shape[0]; \n",
    "N2 = np.matrix([(1, 0),(2, 0),(1, 1),(2, 1)])\n",
    "N = np.concatenate((N1, N2), axis=0)\n",
    "C1 = np.matrix([(0,1,2),(2,1,3)])\n",
    "C2 = np.matrix([(0,1,2),(2,1,3)])\n",
    "C2 = C2 + num_nodi\n",
    "C = np.concatenate((C1, C2), axis=0)\n",
    "print(C)\n",
    "# now we have to purge the repeated nodes, and update the related indexes on the Cell matrix 'C'\n",
    "Nnew, n2o, o2n = np.unique(N, return_index=True, return_inverse=True, axis=0)\n",
    "# 'n2o' maps the new serted and purged array on the old one.\n",
    "# 'o2n' maps the elements of the old array with repeated elements on the new purged one\n",
    "#print(o2n,n2o)"
   ]
  },
  {
   "cell_type": "code",
   "execution_count": 12,
   "metadata": {},
   "outputs": [],
   "source": [
    "# update the indexes of the C matrix to take into account of the removed nodes\n",
    "C[:,:]=o2n[C[:,:]] # both -1 and +1 must be removed if the node indexing starts form 0"
   ]
  },
  {
   "cell_type": "code",
   "execution_count": 13,
   "metadata": {},
   "outputs": [
    {
     "data": {
      "text/plain": [
       "Text(0.5, 1.0, 'Final Mesh')"
      ]
     },
     "execution_count": 13,
     "metadata": {},
     "output_type": "execute_result"
    },
    {
     "data": {
      "image/png": "[encoded data removed]",
      "text/plain": [
       "<Figure size 432x288 with 1 Axes>"
      ]
     },
     "metadata": {
      "needs_background": "light"
     },
     "output_type": "display_data"
    }
   ],
   "source": [
    "fig1, ax1 = plt.subplots()\n",
    "ax1.set_aspect('equal')\n",
    "ax1.triplot(Nnew[:,0],Nnew[:,1],C, 'bo-', lw=2)\n",
    "ax1.set_title('Final Mesh')\n"
   ]
  },
  {
   "cell_type": "code",
   "execution_count": null,
   "metadata": {},
   "outputs": [],
   "source": [
    "\n"
   ]
  },
  {
   "cell_type": "code",
   "execution_count": null,
   "metadata": {},
   "outputs": [],
   "source": []
  }
 ],
 "metadata": {
  "kernelspec": {
   "display_name": "Python 3",
   "language": "python",
   "name": "python3"
  },
  "language_info": {
   "codemirror_mode": {
    "name": "ipython",
    "version": 3
   },
   "file_extension": ".py",
   "mimetype": "text/x-python",
   "name": "python",
   "nbconvert_exporter": "python",
   "pygments_lexer": "ipython3",
   "version": "3.8.5"
  }
 },
 "nbformat": 4,
 "nbformat_minor": 5
}
